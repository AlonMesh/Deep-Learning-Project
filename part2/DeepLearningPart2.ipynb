{
 "cells": [
  {
   "cell_type": "code",
   "execution_count": 1,
   "id": "b9dc82f4",
   "metadata": {},
   "outputs": [
    {
     "name": "stdout",
     "output_type": "stream",
     "text": [
      "WARNING:tensorflow:From C:\\Users\\Alon\\AppData\\Roaming\\Python\\Python38\\site-packages\\tensorflow\\python\\compat\\v2_compat.py:107: disable_resource_variables (from tensorflow.python.ops.variable_scope) is deprecated and will be removed in a future version.\n",
      "Instructions for updating:\n",
      "non-resource variables are not supported in the long term\n"
     ]
    }
   ],
   "source": [
    "# Import TensorFlow 2.x in compatibility mode\n",
    "import tensorflow.compat.v1 as tf\n",
    "tf.disable_v2_behavior()"
   ]
  },
  {
   "cell_type": "code",
   "execution_count": 2,
   "id": "ba0dd9d9",
   "metadata": {},
   "outputs": [],
   "source": [
    "import pandas as pd"
   ]
  },
  {
   "cell_type": "code",
   "execution_count": 3,
   "id": "c0ef7e77",
   "metadata": {},
   "outputs": [],
   "source": [
    "from tensorflow.keras.models import Sequential\n",
    "from tensorflow.keras.layers import Dense\n",
    "from sklearn.model_selection import train_test_split\n",
    "from sklearn.metrics import accuracy_score, classification_report\n",
    "import matplotlib.pyplot as plt"
   ]
  },
  {
   "cell_type": "markdown",
   "id": "746d581b",
   "metadata": {},
   "source": [
    "## Load and preprocess the dataset"
   ]
  },
  {
   "cell_type": "code",
   "execution_count": 4,
   "id": "85104d73",
   "metadata": {},
   "outputs": [],
   "source": [
    "data = pd.read_csv(r'C:\\Users\\Alon\\OneDrive\\שולחן העבודה\\קורסים\\למידה עמוקה\\archive\\diabetes.csv')"
   ]
  },
  {
   "cell_type": "code",
   "execution_count": 5,
   "id": "12bb29cb",
   "metadata": {
    "scrolled": true
   },
   "outputs": [
    {
     "name": "stdout",
     "output_type": "stream",
     "text": [
      "<class 'pandas.core.frame.DataFrame'>\n",
      "RangeIndex: 768 entries, 0 to 767\n",
      "Data columns (total 9 columns):\n",
      " #   Column                    Non-Null Count  Dtype  \n",
      "---  ------                    --------------  -----  \n",
      " 0   Pregnancies               768 non-null    int64  \n",
      " 1   Glucose                   768 non-null    int64  \n",
      " 2   BloodPressure             768 non-null    int64  \n",
      " 3   SkinThickness             768 non-null    int64  \n",
      " 4   Insulin                   768 non-null    int64  \n",
      " 5   BMI                       768 non-null    float64\n",
      " 6   DiabetesPedigreeFunction  768 non-null    float64\n",
      " 7   Age                       768 non-null    int64  \n",
      " 8   Outcome                   768 non-null    int64  \n",
      "dtypes: float64(2), int64(7)\n",
      "memory usage: 54.1 KB\n"
     ]
    }
   ],
   "source": [
    "data.info()"
   ]
  },
  {
   "cell_type": "markdown",
   "id": "b6528417",
   "metadata": {},
   "source": [
    "## Define features and labels"
   ]
  },
  {
   "cell_type": "code",
   "execution_count": 6,
   "id": "fa7b06ea",
   "metadata": {},
   "outputs": [],
   "source": [
    "y = data['Outcome']"
   ]
  },
  {
   "cell_type": "code",
   "execution_count": 7,
   "id": "efb8d86b",
   "metadata": {},
   "outputs": [
    {
     "data": {
      "text/plain": [
       "0      1\n",
       "1      0\n",
       "2      1\n",
       "3      0\n",
       "4      1\n",
       "      ..\n",
       "763    0\n",
       "764    0\n",
       "765    0\n",
       "766    1\n",
       "767    0\n",
       "Name: Outcome, Length: 768, dtype: int64"
      ]
     },
     "execution_count": 7,
     "metadata": {},
     "output_type": "execute_result"
    }
   ],
   "source": [
    "y"
   ]
  },
  {
   "cell_type": "code",
   "execution_count": 8,
   "id": "219dc856",
   "metadata": {},
   "outputs": [],
   "source": [
    "X = data.copy().drop(columns='Outcome')"
   ]
  },
  {
   "cell_type": "code",
   "execution_count": 9,
   "id": "b1aeb97a",
   "metadata": {},
   "outputs": [
    {
     "data": {
      "text/html": [
       "<div>\n",
       "<style scoped>\n",
       "    .dataframe tbody tr th:only-of-type {\n",
       "        vertical-align: middle;\n",
       "    }\n",
       "\n",
       "    .dataframe tbody tr th {\n",
       "        vertical-align: top;\n",
       "    }\n",
       "\n",
       "    .dataframe thead th {\n",
       "        text-align: right;\n",
       "    }\n",
       "</style>\n",
       "<table border=\"1\" class=\"dataframe\">\n",
       "  <thead>\n",
       "    <tr style=\"text-align: right;\">\n",
       "      <th></th>\n",
       "      <th>Pregnancies</th>\n",
       "      <th>Glucose</th>\n",
       "      <th>BloodPressure</th>\n",
       "      <th>SkinThickness</th>\n",
       "      <th>Insulin</th>\n",
       "      <th>BMI</th>\n",
       "      <th>DiabetesPedigreeFunction</th>\n",
       "      <th>Age</th>\n",
       "    </tr>\n",
       "  </thead>\n",
       "  <tbody>\n",
       "    <tr>\n",
       "      <th>0</th>\n",
       "      <td>6</td>\n",
       "      <td>148</td>\n",
       "      <td>72</td>\n",
       "      <td>35</td>\n",
       "      <td>0</td>\n",
       "      <td>33.6</td>\n",
       "      <td>0.627</td>\n",
       "      <td>50</td>\n",
       "    </tr>\n",
       "    <tr>\n",
       "      <th>1</th>\n",
       "      <td>1</td>\n",
       "      <td>85</td>\n",
       "      <td>66</td>\n",
       "      <td>29</td>\n",
       "      <td>0</td>\n",
       "      <td>26.6</td>\n",
       "      <td>0.351</td>\n",
       "      <td>31</td>\n",
       "    </tr>\n",
       "    <tr>\n",
       "      <th>2</th>\n",
       "      <td>8</td>\n",
       "      <td>183</td>\n",
       "      <td>64</td>\n",
       "      <td>0</td>\n",
       "      <td>0</td>\n",
       "      <td>23.3</td>\n",
       "      <td>0.672</td>\n",
       "      <td>32</td>\n",
       "    </tr>\n",
       "    <tr>\n",
       "      <th>3</th>\n",
       "      <td>1</td>\n",
       "      <td>89</td>\n",
       "      <td>66</td>\n",
       "      <td>23</td>\n",
       "      <td>94</td>\n",
       "      <td>28.1</td>\n",
       "      <td>0.167</td>\n",
       "      <td>21</td>\n",
       "    </tr>\n",
       "    <tr>\n",
       "      <th>4</th>\n",
       "      <td>0</td>\n",
       "      <td>137</td>\n",
       "      <td>40</td>\n",
       "      <td>35</td>\n",
       "      <td>168</td>\n",
       "      <td>43.1</td>\n",
       "      <td>2.288</td>\n",
       "      <td>33</td>\n",
       "    </tr>\n",
       "    <tr>\n",
       "      <th>...</th>\n",
       "      <td>...</td>\n",
       "      <td>...</td>\n",
       "      <td>...</td>\n",
       "      <td>...</td>\n",
       "      <td>...</td>\n",
       "      <td>...</td>\n",
       "      <td>...</td>\n",
       "      <td>...</td>\n",
       "    </tr>\n",
       "    <tr>\n",
       "      <th>763</th>\n",
       "      <td>10</td>\n",
       "      <td>101</td>\n",
       "      <td>76</td>\n",
       "      <td>48</td>\n",
       "      <td>180</td>\n",
       "      <td>32.9</td>\n",
       "      <td>0.171</td>\n",
       "      <td>63</td>\n",
       "    </tr>\n",
       "    <tr>\n",
       "      <th>764</th>\n",
       "      <td>2</td>\n",
       "      <td>122</td>\n",
       "      <td>70</td>\n",
       "      <td>27</td>\n",
       "      <td>0</td>\n",
       "      <td>36.8</td>\n",
       "      <td>0.340</td>\n",
       "      <td>27</td>\n",
       "    </tr>\n",
       "    <tr>\n",
       "      <th>765</th>\n",
       "      <td>5</td>\n",
       "      <td>121</td>\n",
       "      <td>72</td>\n",
       "      <td>23</td>\n",
       "      <td>112</td>\n",
       "      <td>26.2</td>\n",
       "      <td>0.245</td>\n",
       "      <td>30</td>\n",
       "    </tr>\n",
       "    <tr>\n",
       "      <th>766</th>\n",
       "      <td>1</td>\n",
       "      <td>126</td>\n",
       "      <td>60</td>\n",
       "      <td>0</td>\n",
       "      <td>0</td>\n",
       "      <td>30.1</td>\n",
       "      <td>0.349</td>\n",
       "      <td>47</td>\n",
       "    </tr>\n",
       "    <tr>\n",
       "      <th>767</th>\n",
       "      <td>1</td>\n",
       "      <td>93</td>\n",
       "      <td>70</td>\n",
       "      <td>31</td>\n",
       "      <td>0</td>\n",
       "      <td>30.4</td>\n",
       "      <td>0.315</td>\n",
       "      <td>23</td>\n",
       "    </tr>\n",
       "  </tbody>\n",
       "</table>\n",
       "<p>768 rows × 8 columns</p>\n",
       "</div>"
      ],
      "text/plain": [
       "     Pregnancies  Glucose  BloodPressure  SkinThickness  Insulin   BMI  \\\n",
       "0              6      148             72             35        0  33.6   \n",
       "1              1       85             66             29        0  26.6   \n",
       "2              8      183             64              0        0  23.3   \n",
       "3              1       89             66             23       94  28.1   \n",
       "4              0      137             40             35      168  43.1   \n",
       "..           ...      ...            ...            ...      ...   ...   \n",
       "763           10      101             76             48      180  32.9   \n",
       "764            2      122             70             27        0  36.8   \n",
       "765            5      121             72             23      112  26.2   \n",
       "766            1      126             60              0        0  30.1   \n",
       "767            1       93             70             31        0  30.4   \n",
       "\n",
       "     DiabetesPedigreeFunction  Age  \n",
       "0                       0.627   50  \n",
       "1                       0.351   31  \n",
       "2                       0.672   32  \n",
       "3                       0.167   21  \n",
       "4                       2.288   33  \n",
       "..                        ...  ...  \n",
       "763                     0.171   63  \n",
       "764                     0.340   27  \n",
       "765                     0.245   30  \n",
       "766                     0.349   47  \n",
       "767                     0.315   23  \n",
       "\n",
       "[768 rows x 8 columns]"
      ]
     },
     "execution_count": 9,
     "metadata": {},
     "output_type": "execute_result"
    }
   ],
   "source": [
    "X"
   ]
  },
  {
   "cell_type": "markdown",
   "id": "3ea34437",
   "metadata": {},
   "source": [
    "## Split the data into train and test sets"
   ]
  },
  {
   "cell_type": "code",
   "execution_count": 10,
   "id": "e1a172b5",
   "metadata": {},
   "outputs": [],
   "source": [
    "X_train, X_test, y_train, y_test = train_test_split(X, y, test_size=0.2, random_state=42)"
   ]
  },
  {
   "cell_type": "markdown",
   "id": "935827ec",
   "metadata": {},
   "source": [
    "# Neural Network Model"
   ]
  },
  {
   "cell_type": "markdown",
   "id": "cbd765df",
   "metadata": {},
   "source": [
    "## Define the neural network architecture"
   ]
  },
  {
   "cell_type": "code",
   "execution_count": 11,
   "id": "40dc0712",
   "metadata": {},
   "outputs": [],
   "source": [
    "input_size = X_train.shape[1]\n",
    "output_size = 1  # Simple classification"
   ]
  },
  {
   "cell_type": "code",
   "execution_count": 12,
   "id": "cce2a0aa",
   "metadata": {},
   "outputs": [],
   "source": [
    "# Placeholder for input data\n",
    "X = tf.placeholder(tf.float32, shape=[None, input_size], name='X')"
   ]
  },
  {
   "cell_type": "code",
   "execution_count": 13,
   "id": "c3ee3f0b",
   "metadata": {},
   "outputs": [],
   "source": [
    "# Placeholder for labels\n",
    "y = tf.placeholder(tf.float32, shape=[None, output_size], name='y')"
   ]
  },
  {
   "cell_type": "code",
   "execution_count": 15,
   "id": "d5755a63",
   "metadata": {
    "scrolled": true
   },
   "outputs": [
    {
     "name": "stderr",
     "output_type": "stream",
     "text": [
      "C:\\Users\\Alon\\AppData\\Local\\Temp\\ipykernel_6172\\719582209.py:12: UserWarning: `tf.layers.dense` is deprecated and will be removed in a future version. Please use `tf.keras.layers.Dense` instead.\n",
      "  hidden_layer = tf.layers.dense(inputs=hidden_layer, units=hidden_size, activation=tf.nn.relu, name=f'hidden_layer_{i+1}')\n",
      "C:\\Users\\Alon\\AppData\\Local\\Temp\\ipykernel_6172\\719582209.py:15: UserWarning: `tf.layers.dense` is deprecated and will be removed in a future version. Please use `tf.keras.layers.Dense` instead.\n",
      "  output_layer = tf.layers.dense(inputs=hidden_layer, units=output_size, name='output_layer')\n"
     ]
    }
   ],
   "source": [
    "# Define the neural network model\n",
    "hidden_size = 32\n",
    "\n",
    "# Define the number of hidden layers (L)\n",
    "L = 3\n",
    "\n",
    "# Input layer\n",
    "hidden_layer = X\n",
    "\n",
    "# Create L hidden layers\n",
    "for i in range(L):\n",
    "    hidden_layer = tf.layers.dense(inputs=hidden_layer, units=hidden_size, activation=tf.nn.relu, name=f'hidden_layer_{i+1}')\n",
    "\n",
    "# Output layer\n",
    "output_layer = tf.layers.dense(inputs=hidden_layer, units=output_size, name='output_layer')"
   ]
  },
  {
   "cell_type": "code",
   "execution_count": 16,
   "id": "72055209",
   "metadata": {
    "scrolled": true
   },
   "outputs": [],
   "source": [
    "# Define loss function and optimizer\n",
    "loss = tf.reduce_mean(tf.square(output_layer - y))\n",
    "optimizer = tf.train.AdamOptimizer(learning_rate=0.001)\n",
    "train_op = optimizer.minimize(loss)"
   ]
  },
  {
   "cell_type": "code",
   "execution_count": 17,
   "id": "05e9ddd0",
   "metadata": {},
   "outputs": [],
   "source": [
    "# Initialize variables\n",
    "init = tf.global_variables_initializer()"
   ]
  },
  {
   "cell_type": "markdown",
   "id": "58c2a925",
   "metadata": {},
   "source": [
    "## Train the model"
   ]
  },
  {
   "cell_type": "code",
   "execution_count": 18,
   "id": "21460e16",
   "metadata": {
    "scrolled": true
   },
   "outputs": [
    {
     "name": "stdout",
     "output_type": "stream",
     "text": [
      "Epoch 500/5000, Training Loss: 0.14503219723701477\n",
      "Epoch 1000/5000, Training Loss: 0.08713172376155853\n",
      "Epoch 1500/5000, Training Loss: 0.05831257998943329\n",
      "Epoch 2000/5000, Training Loss: 0.04374520108103752\n",
      "Epoch 2500/5000, Training Loss: 0.047553613781929016\n",
      "Epoch 3000/5000, Training Loss: 0.0443120151758194\n",
      "Epoch 3500/5000, Training Loss: 0.040675923228263855\n",
      "Epoch 4000/5000, Training Loss: 0.04373455420136452\n",
      "Epoch 4500/5000, Training Loss: 0.020810794085264206\n",
      "Epoch 5000/5000, Training Loss: 0.021850351244211197\n"
     ]
    }
   ],
   "source": [
    "epochs = 5000\n",
    "batch_size = 32\n",
    "\n",
    "# Lists to store training history\n",
    "training_losses_nn = []\n",
    "\n",
    "with tf.Session() as sess:\n",
    "    sess.run(init)\n",
    "\n",
    "    for epoch in range(epochs):\n",
    "        for i in range(0, len(X_train), batch_size):\n",
    "            X_batch = X_train[i:i+batch_size]\n",
    "            y_batch = y_train[i:i+batch_size].values.reshape(-1, 1)  # Convert to NumPy array and reshape\n",
    "\n",
    "            sess.run(train_op, feed_dict={X: X_batch, y: y_batch})\n",
    "\n",
    "        # Print training progress\n",
    "        if (epoch + 1) % 500 == 0:\n",
    "            training_loss = sess.run(loss, feed_dict={X: X_train, y: y_train.values.reshape(-1, 1)})\n",
    "            print(f'Epoch {epoch+1}/{epochs}, Training Loss: {training_loss}')\n",
    "            \n",
    "            # Save training loss for plotting\n",
    "            training_losses_nn.append(training_loss)\n",
    "\n",
    "    # Make predictions\n",
    "    predictions = sess.run(output_layer, feed_dict={X: X_train})"
   ]
  },
  {
   "cell_type": "code",
   "execution_count": 19,
   "id": "165e6e12",
   "metadata": {
    "scrolled": false
   },
   "outputs": [
    {
     "data": {
      "image/png": "[encoded data removed]",
      "text/plain": [
       "<Figure size 640x480 with 1 Axes>"
      ]
     },
     "metadata": {},
     "output_type": "display_data"
    }
   ],
   "source": [
    "plt.plot(range(500, epochs + 1, 500), training_losses_nn, marker='o', linestyle='-', color='b')\n",
    "plt.grid()\n",
    "plt.title('Training Loss over Epochs (Neural Network)')\n",
    "plt.xlabel('Epochs')\n",
    "plt.ylabel('Training Loss')\n",
    "plt.show()"
   ]
  },
  {
   "cell_type": "markdown",
   "id": "5bd6e29d",
   "metadata": {},
   "source": [
    "# Comparison to a simple logistic regression "
   ]
  },
  {
   "cell_type": "markdown",
   "id": "2728ce13",
   "metadata": {},
   "source": [
    "## Define the logistic regression model parameters"
   ]
  },
  {
   "cell_type": "code",
   "execution_count": 20,
   "id": "8a3e3dd6",
   "metadata": {},
   "outputs": [],
   "source": [
    "weights = tf.Variable(tf.zeros([input_size, 1]), name='weights')\n",
    "bias = tf.Variable(tf.zeros([1]), name='bias')"
   ]
  },
  {
   "cell_type": "code",
   "execution_count": 21,
   "id": "f08fd94a",
   "metadata": {},
   "outputs": [],
   "source": [
    "# Define the logistic regression model\n",
    "input_size = X_train.shape[1]\n",
    "\n",
    "# Placeholder for input data\n",
    "X = tf.placeholder(tf.float32, shape=[None, input_size], name='X')\n",
    "\n",
    "# Placeholder for binary labels (0 or 1)\n",
    "y = tf.placeholder(tf.float32, shape=[None, 1], name='y')"
   ]
  },
  {
   "cell_type": "code",
   "execution_count": 22,
   "id": "2467e3bf",
   "metadata": {},
   "outputs": [],
   "source": [
    "# Logistic regression model\n",
    "logits = tf.add(tf.matmul(X, weights), bias)\n",
    "predictions = tf.nn.sigmoid(logits)\n",
    "\n",
    "# Define loss function (binary cross-entropy)\n",
    "loss = tf.reduce_mean(tf.nn.sigmoid_cross_entropy_with_logits(labels=y, logits=logits))\n",
    "\n",
    "# Define optimizer (e.g., gradient descent)\n",
    "optimizer = tf.train.GradientDescentOptimizer(learning_rate=0.01)\n",
    "train_op = optimizer.minimize(loss)"
   ]
  },
  {
   "cell_type": "code",
   "execution_count": 23,
   "id": "9f710a97",
   "metadata": {},
   "outputs": [],
   "source": [
    "# Initialize variables\n",
    "init = tf.global_variables_initializer()"
   ]
  },
  {
   "cell_type": "code",
   "execution_count": 24,
   "id": "f521e2c2",
   "metadata": {},
   "outputs": [
    {
     "name": "stdout",
     "output_type": "stream",
     "text": [
      "Epoch 500/5000, Training Loss: 30.284317016601562\n",
      "Epoch 1000/5000, Training Loss: 11.173237800598145\n",
      "Epoch 1500/5000, Training Loss: 8.017516136169434\n",
      "Epoch 2000/5000, Training Loss: 10.407505989074707\n",
      "Epoch 2500/5000, Training Loss: 7.838350296020508\n",
      "Epoch 3000/5000, Training Loss: 25.219282150268555\n",
      "Epoch 3500/5000, Training Loss: 23.743389129638672\n",
      "Epoch 4000/5000, Training Loss: 11.036818504333496\n",
      "Epoch 4500/5000, Training Loss: 26.197052001953125\n",
      "Epoch 5000/5000, Training Loss: 6.833233833312988\n"
     ]
    }
   ],
   "source": [
    "# Train the logistic regression model\n",
    "epochs = 5000\n",
    "batch_size = 32\n",
    "\n",
    "# List to store training history\n",
    "training_losses_log_r = []\n",
    "\n",
    "with tf.Session() as sess:\n",
    "    sess.run(init)\n",
    "\n",
    "    for epoch in range(epochs):\n",
    "        for i in range(0, len(X_train), batch_size):\n",
    "            X_batch = X_train[i:i+batch_size]\n",
    "            y_batch = y_train[i:i+batch_size].values.reshape(-1, 1)  # Convert to NumPy array and reshape\n",
    "\n",
    "            sess.run(train_op, feed_dict={X: X_batch, y: y_batch})\n",
    "\n",
    "        # Print training progress\n",
    "        if (epoch + 1) % 500 == 0:\n",
    "            training_loss = sess.run(loss, feed_dict={X: X_train, y: y_train.values.reshape(-1, 1)})\n",
    "            print(f'Epoch {epoch+1}/{epochs}, Training Loss: {training_loss}')\n",
    "\n",
    "            # Save training loss for plotting\n",
    "            training_losses_log_r.append(training_loss)"
   ]
  },
  {
   "cell_type": "code",
   "execution_count": 25,
   "id": "54ec7980",
   "metadata": {},
   "outputs": [
    {
     "data": {
      "image/png": "[encoded data removed]",
      "text/plain": [
       "<Figure size 640x480 with 1 Axes>"
      ]
     },
     "metadata": {},
     "output_type": "display_data"
    }
   ],
   "source": [
    "plt.plot(range(500, epochs + 1, 500), training_losses_log_r, marker='o', linestyle='-', color='g')\n",
    "plt.grid()\n",
    "plt.title('Training Loss over Epochs (Logistic Regression)')\n",
    "plt.xlabel('Epochs')\n",
    "plt.ylabel('Training Loss')\n",
    "plt.show()"
   ]
  },
  {
   "cell_type": "markdown",
   "id": "3a20cb45",
   "metadata": {},
   "source": [
    "## Comparison in a plot"
   ]
  },
  {
   "cell_type": "code",
   "execution_count": 26,
   "id": "28dff886",
   "metadata": {},
   "outputs": [
    {
     "data": {
      "image/png": "[encoded data removed]",
      "text/plain": [
       "<Figure size 640x480 with 1 Axes>"
      ]
     },
     "metadata": {},
     "output_type": "display_data"
    }
   ],
   "source": [
    "plt.plot(range(500, epochs + 1, 500), training_losses_nn, marker='o', linestyle='-', color='b', label='Neural Network')\n",
    "plt.plot(range(500, epochs + 1, 500), training_losses_log_r, marker='o', linestyle='-', color='g', label='Logistic Regression')\n",
    "\n",
    "# Adding labels and title\n",
    "plt.grid()\n",
    "plt.title('Training Loss over Epochs')\n",
    "plt.xlabel('Epochs')\n",
    "plt.ylabel('Training Loss')\n",
    "\n",
    "plt.legend()  # Adding legend\n",
    "\n",
    "plt.show()"
   ]
  }
 ],
 "metadata": {
  "kernelspec": {
   "display_name": "Python 3 (ipykernel)",
   "language": "python",
   "name": "python3"
  },
  "language_info": {
   "codemirror_mode": {
    "name": "ipython",
    "version": 3
   },
   "file_extension": ".py",
   "mimetype": "text/x-python",
   "name": "python",
   "nbconvert_exporter": "python",
   "pygments_lexer": "ipython3",
   "version": "3.8.18"
  }
 },
 "nbformat": 4,
 "nbformat_minor": 5
}
